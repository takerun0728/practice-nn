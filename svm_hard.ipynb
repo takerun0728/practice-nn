{
 "cells": [
  {
   "cell_type": "code",
   "execution_count": 2,
   "id": "1fedc4f9-c8c9-4a80-9e46-058479b1c6e8",
   "metadata": {},
   "outputs": [],
   "source": [
    "from sklearn.datasets import load_iris\n",
    "import pandas as pd\n",
    "import numpy as np\n",
    "import matplotlib.pyplot as plt"
   ]
  },
  {
   "cell_type": "code",
   "execution_count": 3,
   "id": "36ac9563-2e05-40a6-87e7-77367baa5eb8",
   "metadata": {},
   "outputs": [
    {
     "name": "stdout",
     "output_type": "stream",
     "text": [
      "   sepal length (cm)  sepal width (cm)  petal length (cm)  petal width (cm)\n",
      "0                5.1               3.5                1.4               0.2\n",
      "1                4.9               3.0                1.4               0.2\n",
      "2                4.7               3.2                1.3               0.2\n",
      "3                4.6               3.1                1.5               0.2\n",
      "4                5.0               3.6                1.4               0.2\n"
     ]
    }
   ],
   "source": [
    "iris = load_iris()\n",
    "iris_df = pd.DataFrame(iris.data, columns=iris.feature_names)\n",
    "\n",
    "print(iris_df.head())"
   ]
  },
  {
   "cell_type": "code",
   "execution_count": 4,
   "id": "056aaf11-7be2-4882-b066-de3ae98c65a7",
   "metadata": {},
   "outputs": [
    {
     "name": "stdout",
     "output_type": "stream",
     "text": [
      "[0 0 0 0 0 0 0 0 0 0 0 0 0 0 0 0 0 0 0 0 0 0 0 0 0 0 0 0 0 0 0 0 0 0 0 0 0\n",
      " 0 0 0 0 0 0 0 0 0 0 0 0 0 1 1 1 1 1 1 1 1 1 1 1 1 1 1 1 1 1 1 1 1 1 1 1 1\n",
      " 1 1 1 1 1 1 1 1 1 1 1 1 1 1 1 1 1 1 1 1 1 1 1 1 1 1 2 2 2 2 2 2 2 2 2 2 2\n",
      " 2 2 2 2 2 2 2 2 2 2 2 2 2 2 2 2 2 2 2 2 2 2 2 2 2 2 2 2 2 2 2 2 2 2 2 2 2\n",
      " 2 2]\n"
     ]
    }
   ],
   "source": [
    "print(iris.target)"
   ]
  },
  {
   "cell_type": "code",
   "execution_count": 5,
   "id": "4d407118-4059-49e4-bc62-832390359d01",
   "metadata": {},
   "outputs": [],
   "source": [
    "setosa = iris.target == 0\n",
    "versicolor = iris.target == 1\n",
    "all_target = np.logical_or(setosa, versicolor)\n",
    "X = iris.data[all_target, 2:]\n",
    "Y = iris.target[all_target]\n",
    "X_setosa = iris.data[setosa, 2:]\n",
    "X_versicolor = iris.data[versicolor, 2:]"
   ]
  },
  {
   "cell_type": "code",
   "execution_count": 6,
   "id": "34ebd276-b147-4e14-9ddc-04f22c7f1860",
   "metadata": {},
   "outputs": [
    {
     "data": {
      "text/plain": [
       "array(['setosa', 'versicolor', 'virginica'], dtype='<U10')"
      ]
     },
     "execution_count": 6,
     "metadata": {},
     "output_type": "execute_result"
    }
   ],
   "source": [
    "iris.target_names"
   ]
  },
  {
   "cell_type": "code",
   "execution_count": 7,
   "id": "199846f6-b691-4319-84f9-7b95c6653060",
   "metadata": {},
   "outputs": [],
   "source": [
    "plt.scatter(X_setosa[:, 0], X_setosa[:, 1], c='blue', marker='o')\n",
    "plt.scatter(X_versicolor[:, 0], X_versicolor[:, 1], c='red', marker='x')\n",
    "plt.show()"
   ]
  },
  {
   "cell_type": "code",
   "execution_count": 8,
   "id": "e1c2d8d3-7e57-49ac-be3a-d8c7c4b62d77",
   "metadata": {},
   "outputs": [],
   "source": [
    "X, ind = np.unique(X, axis=0, return_index=True)\n",
    "Y = Y[ind]"
   ]
  },
  {
   "cell_type": "code",
   "execution_count": 9,
   "id": "cc96d32e-9980-448b-b69d-775fb3b25d3e",
   "metadata": {},
   "outputs": [],
   "source": [
    "Y[Y==0] = -1\n",
    "Y[Y==1] = 1"
   ]
  },
  {
   "cell_type": "raw",
   "id": "2a6c5b68-08fe-4111-a562-977fe13a7fdf",
   "metadata": {},
   "source": [
    "#\n",
    "#ones = np.ones_like(Y.reshape(-1, 1), dtype=np.float64)\n",
    "#mat_inv = np.linalg.inv(mat)\n",
    "#a = mat_inv.sum(axis=1)\n",
    "#a = ones @ np.linalg.inv(mat)\n",
    "#mat\n",
    "#a"
   ]
  },
  {
   "cell_type": "code",
   "execution_count": null,
   "id": "cb1bdf43-f401-4dcd-842b-c258f428640f",
   "metadata": {},
   "outputs": [],
   "source": [
    "for i in range(10000):\n",
    "    mat = (Y.reshape(-1, 1) * X) @ (Y * X.T)\n",
    "    "
   ]
  }
 ],
 "metadata": {
  "kernelspec": {
   "display_name": "Python 3.8 (XPython)",
   "language": "python",
   "name": "xpython"
  },
  "language_info": {
   "file_extension": ".py",
   "mimetype": "text/x-python",
   "name": "python",
   "version": "3.8.12"
  }
 },
 "nbformat": 4,
 "nbformat_minor": 5
}
